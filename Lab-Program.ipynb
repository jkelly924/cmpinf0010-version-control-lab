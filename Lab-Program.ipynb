{
 "cells": [
  {
   "cell_type": "code",
   "execution_count": 6,
   "id": "c34d6e7f-f5c0-47ca-9086-7097d7bc8ee9",
   "metadata": {},
   "outputs": [
    {
     "name": "stdin",
     "output_type": "stream",
     "text": [
      "What is your name? cole\n",
      "By how much would you like to rotate your name? 2\n"
     ]
    },
    {
     "name": "stdout",
     "output_type": "stream",
     "text": [
      "Your name rotated by 2 characters is leco!\n"
     ]
    }
   ],
   "source": [
    "# This program gets a name input as a string, and then rotates it by the number provided.\n",
    "\n",
    "name = input (\"What is your name?\")\n",
    "rotation_amount = int(input(\"By how much would you like to rotate your name?\"))\n",
    "# Gather rotation amount\n",
    "# TODO: Get rotation amount\n",
    "\n",
    "\n",
    "rotated_name = ''\n",
    "# Rotating the name\n",
    "for i in range(len(name)):\n",
    "    rotated_name += name[(i - rotation_amount) % len(name)]\n",
    "\n",
    "print(f'Your name rotated by {rotation_amount} characters is {rotated_name}!')"
   ]
  },
  {
   "cell_type": "code",
   "execution_count": null,
   "id": "a8578f96-9d1e-45ae-b9f2-f259decf5edf",
   "metadata": {},
   "outputs": [],
   "source": []
  },
  {
   "cell_type": "code",
   "execution_count": null,
   "id": "e52bfdef-915f-478c-baac-b9ba6caefd47",
   "metadata": {},
   "outputs": [],
   "source": []
  }
 ],
 "metadata": {
  "kernelspec": {
   "display_name": "Python 3 (ipykernel)",
   "language": "python",
   "name": "python3"
  },
  "language_info": {
   "codemirror_mode": {
    "name": "ipython",
    "version": 3
   },
   "file_extension": ".py",
   "mimetype": "text/x-python",
   "name": "python",
   "nbconvert_exporter": "python",
   "pygments_lexer": "ipython3",
   "version": "3.12.4"
  }
 },
 "nbformat": 4,
 "nbformat_minor": 5
}
